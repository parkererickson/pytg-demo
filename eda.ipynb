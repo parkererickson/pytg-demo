{
 "cells": [
  {
   "cell_type": "markdown",
   "source": [
    "# Introduction to pyTigerGraph\n",
    "## TigerGraph ML Team\n",
    "\n",
    "pyTigerGraph is the Python API for [TigerGraph](https://www.tigergraph.com/). It can be used to query and update data in a TigerGraph database. Full documentation is available [here](https://github.com/pyTigerGraph/pyTigerGraph)."
   ],
   "metadata": {}
  },
  {
   "cell_type": "markdown",
   "source": [
    "## Creating a Connection\n",
    "Here, we will create a connection to a TigerGraph database. There are many different parameters that can be used to connect based upon the specific instance, but we will use the defaults, and therefore only need to specify the host."
   ],
   "metadata": {}
  },
  {
   "cell_type": "code",
   "execution_count": 1,
   "source": [
    "import pyTigerGraph as tg\n",
    "import pandas as pd\n",
    "\n",
    "conn = tg.TigerGraphConnection(\"https://parker-fraud.i.tgcloud.io\")"
   ],
   "outputs": [],
   "metadata": {}
  },
  {
   "cell_type": "markdown",
   "source": [
    "## Verifying the Connection\n",
    "We will print out the result of a GSQL `LS` command to verify that we are connected to the database."
   ],
   "metadata": {}
  },
  {
   "cell_type": "code",
   "execution_count": 2,
   "source": [
    "print(conn.gsql(\"LS\"))"
   ],
   "outputs": [
    {
     "output_type": "stream",
     "name": "stdout",
     "text": [
      "---- Graph MyGraph\n",
      "Vertex Types:\n",
      "- VERTEX email(PRIMARY_ID id STRING, address STRING) WITH STATS=\"OUTDEGREE_BY_EDGETYPE\", PRIMARY_ID_AS_ATTRIBUTE=\"false\"\n",
      "- VERTEX bank(PRIMARY_ID id STRING, name STRING, ABA_routing_number UINT, swift_code UINT) WITH STATS=\"OUTDEGREE_BY_EDGETYPE\", PRIMARY_ID_AS_ATTRIBUTE=\"false\"\n",
      "- VERTEX device(PRIMARY_ID id STRING, manufacturer STRING, model STRING, IMEI STRING, trust_score FLOAT DEFAULT \"0.5\") WITH STATS=\"OUTDEGREE_BY_EDGETYPE\", PRIMARY_ID_AS_ATTRIBUTE=\"false\"\n",
      "- VERTEX payment(PRIMARY_ID id STRING, amount FLOAT, transaction_date STRING, transactionEpoch UINT, trust_score FLOAT) WITH STATS=\"OUTDEGREE_BY_EDGETYPE\", PRIMARY_ID_AS_ATTRIBUTE=\"false\"\n",
      "- VERTEX phone_number(PRIMARY_ID id STRING, number STRING) WITH STATS=\"OUTDEGREE_BY_EDGETYPE\", PRIMARY_ID_AS_ATTRIBUTE=\"false\"\n",
      "- VERTEX merchant_account(PRIMARY_ID id STRING, create_date STRING, createEpoch UINT, phone_number STRING, email STRING) WITH STATS=\"OUTDEGREE_BY_EDGETYPE\", PRIMARY_ID_AS_ATTRIBUTE=\"false\"\n",
      "- VERTEX user_account(PRIMARY_ID id STRING, created_date STRING, createEpoch UINT, trust_score FLOAT DEFAULT \"0.5\") WITH STATS=\"OUTDEGREE_BY_EDGETYPE\", PRIMARY_ID_AS_ATTRIBUTE=\"false\"\n",
      "- VERTEX user(PRIMARY_ID id STRING, id STRING, created_date STRING, mobile STRING, trust_score FLOAT DEFAULT \"0.5\", createEpoch UINT) WITH STATS=\"OUTDEGREE_BY_EDGETYPE\", PRIMARY_ID_AS_ATTRIBUTE=\"false\"\n",
      "Edge Types:\n",
      "- DIRECTED EDGE used_with(FROM device, TO phone_number) WITH REVERSE_EDGE=\"reverse_used_with\"\n",
      "- DIRECTED EDGE reverse_used_with(FROM phone_number, TO device) WITH REVERSE_EDGE=\"used_with\"\n",
      "- DIRECTED EDGE used_for(FROM device, TO payment) WITH REVERSE_EDGE=\"reverse_used_for\"\n",
      "- DIRECTED EDGE reverse_used_for(FROM payment, TO device) WITH REVERSE_EDGE=\"used_for\"\n",
      "- DIRECTED EDGE receives_pmnt(FROM payment, TO merchant_account) WITH REVERSE_EDGE=\"reverse_receives_pmnt\"\n",
      "- DIRECTED EDGE reverse_receives_pmnt(FROM merchant_account, TO payment) WITH REVERSE_EDGE=\"receives_pmnt\"\n",
      "- DIRECTED EDGE has_num(FROM user_account, TO phone_number) WITH REVERSE_EDGE=\"reverse_has_num\"\n",
      "- DIRECTED EDGE reverse_has_num(FROM phone_number, TO user_account) WITH REVERSE_EDGE=\"has_num\"\n",
      "- DIRECTED EDGE has_email(FROM user_account, TO email) WITH REVERSE_EDGE=\"reverse_has_email\"\n",
      "- DIRECTED EDGE reverse_has_email(FROM email, TO user_account) WITH REVERSE_EDGE=\"has_email\"\n",
      "- DIRECTED EDGE sends(FROM user_account, TO payment) WITH REVERSE_EDGE=\"reverse_sends\"\n",
      "- DIRECTED EDGE reverse_sends(FROM payment, TO user_account) WITH REVERSE_EDGE=\"sends\"\n",
      "- DIRECTED EDGE receives(FROM payment, TO user_account) WITH REVERSE_EDGE=\"reverse_receives\"\n",
      "- DIRECTED EDGE reverse_receives(FROM user_account, TO payment) WITH REVERSE_EDGE=\"receives\"\n",
      "- DIRECTED EDGE user_account_bank(FROM user_account, TO bank) WITH REVERSE_EDGE=\"reverse_user_account_bank\"\n",
      "- DIRECTED EDGE reverse_user_account_bank(FROM bank, TO user_account) WITH REVERSE_EDGE=\"user_account_bank\"\n",
      "- DIRECTED EDGE associated_with(FROM device, TO user_account) WITH REVERSE_EDGE=\"reverse_associated_with\"\n",
      "- DIRECTED EDGE reverse_associated_with(FROM user_account, TO device) WITH REVERSE_EDGE=\"associated_with\"\n",
      "- DIRECTED EDGE sends_pmnt(FROM merchant_account, TO payment) WITH REVERSE_EDGE=\"reverse_sends_pmnt\"\n",
      "- DIRECTED EDGE reverse_sends_pmnt(FROM payment, TO merchant_account) WITH REVERSE_EDGE=\"sends_pmnt\"\n",
      "- DIRECTED EDGE merchant_account_device(FROM merchant_account, TO device) WITH REVERSE_EDGE=\"reverse_merchant_account_device\"\n",
      "- DIRECTED EDGE reverse_merchant_account_device(FROM device, TO merchant_account) WITH REVERSE_EDGE=\"merchant_account_device\"\n",
      "- DIRECTED EDGE merchant_account_bank(FROM merchant_account, TO bank) WITH REVERSE_EDGE=\"reverse_merchant_account_bank\"\n",
      "- DIRECTED EDGE reverse_merchant_account_bank(FROM bank, TO merchant_account) WITH REVERSE_EDGE=\"merchant_account_bank\"\n",
      "- DIRECTED EDGE authenticated_by_num(FROM user, TO phone_number) WITH REVERSE_EDGE=\"reverse_authenticated_by_num\"\n",
      "- DIRECTED EDGE reverse_authenticated_by_num(FROM phone_number, TO user) WITH REVERSE_EDGE=\"authenticated_by_num\"\n",
      "- DIRECTED EDGE authenticated_by_email(FROM user, TO email) WITH REVERSE_EDGE=\"reverse_authenticated_by_email\"\n",
      "- DIRECTED EDGE reverse_authenticated_by_email(FROM email, TO user) WITH REVERSE_EDGE=\"authenticated_by_email\"\n",
      "- DIRECTED EDGE sets_up(FROM user, TO user_account) WITH REVERSE_EDGE=\"reverse_sets_up\"\n",
      "- DIRECTED EDGE reverse_sets_up(FROM user_account, TO user) WITH REVERSE_EDGE=\"sets_up\"\n",
      "\n",
      "Graphs:\n",
      "- Graph MyGraph(email:v, bank:v, device:v, payment:v, phone_number:v, merchant_account:v, user_account:v, user:v, used_with:e, reverse_used_with:e, used_for:e, reverse_used_for:e, receives_pmnt:e, reverse_receives_pmnt:e, has_num:e, reverse_has_num:e, has_email:e, reverse_has_email:e, sends:e, reverse_sends:e, receives:e, reverse_receives:e, user_account_bank:e, reverse_user_account_bank:e, associated_with:e, reverse_associated_with:e, sends_pmnt:e, reverse_sends_pmnt:e, merchant_account_device:e, reverse_merchant_account_device:e, merchant_account_bank:e, reverse_merchant_account_bank:e, authenticated_by_num:e, reverse_authenticated_by_num:e, authenticated_by_email:e, reverse_authenticated_by_email:e, sets_up:e, reverse_sets_up:e)\n",
      "Jobs:\n",
      "- CREATE LOADING JOB load_job_bank_csv_1566392710207 FOR GRAPH MyGraph {\n",
      "DEFINE FILENAME MyDataSource;\n",
      "LOAD MyDataSource TO VERTEX bank VALUES($0, $1, $2, $3) USING SEPARATOR=\",\", HEADER=\"true\", EOL=\"\\n\";\n",
      "}\n",
      "\n",
      "- CREATE LOADING JOB load_job_merchant_account_csv_1566393386971 FOR GRAPH MyGraph {\n",
      "DEFINE FILENAME MyDataSource;\n",
      "LOAD MyDataSource TO VERTEX merchant_account VALUES($0, $1, $3, $2, $4) USING SEPARATOR=\",\", HEADER=\"true\", EOL=\"\\n\";\n",
      "LOAD MyDataSource TO EDGE merchant_account_bank VALUES($0, $5) USING SEPARATOR=\",\", HEADER=\"true\", EOL=\"\\n\";\n",
      "}\n",
      "\n",
      "- CREATE LOADING JOB load_job_merchant_payment_csv_1566393465223 FOR GRAPH MyGraph {\n",
      "DEFINE FILENAME MyDataSource;\n",
      "LOAD MyDataSource TO VERTEX payment VALUES($0, $7, $3, $5, $6) USING SEPARATOR=\",\", HEADER=\"true\", EOL=\"\\n\";\n",
      "LOAD MyDataSource TO EDGE merchant_account_device VALUES($0, $4) USING SEPARATOR=\",\", HEADER=\"true\", EOL=\"\\n\";\n",
      "LOAD MyDataSource TO EDGE receives_pmnt VALUES($0, $2) USING SEPARATOR=\",\", HEADER=\"true\", EOL=\"\\n\";\n",
      "LOAD MyDataSource TO EDGE sends VALUES($1, $0) USING SEPARATOR=\",\", HEADER=\"true\", EOL=\"\\n\";\n",
      "}\n",
      "\n",
      "- CREATE LOADING JOB load_job_payment_csv_1566393774143 FOR GRAPH MyGraph {\n",
      "DEFINE FILENAME MyDataSource;\n",
      "LOAD MyDataSource TO VERTEX payment VALUES($0, $7, $3, $5, $6) USING SEPARATOR=\",\", HEADER=\"true\", EOL=\"\\n\";\n",
      "LOAD MyDataSource TO EDGE sends VALUES($1, $0) USING SEPARATOR=\",\", HEADER=\"true\", EOL=\"\\n\";\n",
      "LOAD MyDataSource TO EDGE receives VALUES($0, $2) USING SEPARATOR=\",\", HEADER=\"true\", EOL=\"\\n\";\n",
      "LOAD MyDataSource TO EDGE used_for VALUES($4, $0) USING SEPARATOR=\",\", HEADER=\"true\", EOL=\"\\n\";\n",
      "}\n",
      "\n",
      "- CREATE LOADING JOB load_job_device_csv_1566394564610 FOR GRAPH MyGraph {\n",
      "DEFINE FILENAME MyDataSource;\n",
      "LOAD MyDataSource TO VERTEX device VALUES($0, $1, $2, $3, $4) USING SEPARATOR=\",\", HEADER=\"true\", EOL=\"\\n\";\n",
      "}\n",
      "\n",
      "- CREATE LOADING JOB load_job_user_csv_1566395420732 FOR GRAPH MyGraph {\n",
      "DEFINE FILENAME MyDataSource;\n",
      "LOAD MyDataSource TO VERTEX user VALUES($0, $0, $1, $2, $6, $3) USING SEPARATOR=\",\", HEADER=\"true\", EOL=\"\\n\";\n",
      "LOAD MyDataSource TO EDGE authenticated_by_num VALUES($0, $2) USING SEPARATOR=\",\", HEADER=\"true\", EOL=\"\\n\";\n",
      "LOAD MyDataSource TO EDGE authenticated_by_email VALUES($0, $4) USING SEPARATOR=\",\", HEADER=\"true\", EOL=\"\\n\";\n",
      "LOAD MyDataSource TO EDGE sets_up VALUES($0, $5) USING SEPARATOR=\",\", HEADER=\"true\", EOL=\"\\n\";\n",
      "}\n",
      "\n",
      "- CREATE LOADING JOB load_job_user_account_csv_1566395689571 FOR GRAPH MyGraph {\n",
      "DEFINE FILENAME MyDataSource;\n",
      "LOAD MyDataSource TO VERTEX user_account VALUES($0, $2, $4, $7) USING SEPARATOR=\",\", HEADER=\"false\", EOL=\"\\n\";\n",
      "LOAD MyDataSource TO EDGE sets_up VALUES($1, $0) USING SEPARATOR=\",\", HEADER=\"false\", EOL=\"\\n\";\n",
      "LOAD MyDataSource TO EDGE user_account_bank VALUES($0, $6) USING SEPARATOR=\",\", HEADER=\"false\", EOL=\"\\n\";\n",
      "}\n",
      "\n",
      "- CREATE LOADING JOB load_job_device_phone_number_csv_1566408332938 FOR GRAPH MyGraph {\n",
      "DEFINE FILENAME MyDataSource;\n",
      "LOAD MyDataSource TO EDGE used_with VALUES($0, $1) USING SEPARATOR=\",\", HEADER=\"true\", EOL=\"\\n\";\n",
      "}\n",
      "\n",
      "Queries:\n",
      "- Common_Customers(vertex<merchant_account> Merchant1, vertex<merchant_account> Merchant2) (installed v2)\n",
      "- Recipient_User_Fraudulent_Device() (installed v2)\n",
      "- kHop_Flagged(vertex input, int k) (installed v2)\n",
      "\n",
      "\n",
      "\n",
      "\n"
     ]
    }
   ],
   "metadata": {}
  },
  {
   "cell_type": "markdown",
   "source": [
    "## Add a API token to the Connection\n",
    "We will add an API token to the connection to allow us to query and update data via the REST++ interface."
   ],
   "metadata": {}
  },
  {
   "cell_type": "code",
   "execution_count": 3,
   "source": [
    "conn.apiToken = conn.getToken(conn.createSecret())"
   ],
   "outputs": [],
   "metadata": {}
  },
  {
   "cell_type": "markdown",
   "source": [
    "## Vertex Statistics\n",
    "Here, we get some statistics about the vertices in the database."
   ],
   "metadata": {}
  },
  {
   "cell_type": "code",
   "execution_count": 4,
   "source": [
    "conn.getVertexStats(conn.getVertexTypes())"
   ],
   "outputs": [
    {
     "output_type": "execute_result",
     "data": {
      "text/plain": [
       "{'email': {},\n",
       " 'bank': {'ABA_routing_number': {'MAX': 0, 'MIN': 0, 'AVG': 0},\n",
       "  'swift_code': {'MAX': 0, 'MIN': 0, 'AVG': 0}},\n",
       " 'device': {'trust_score': {'MAX': 0.5, 'MIN': 0, 'AVG': 0.48993}},\n",
       " 'payment': {'amount': {'MAX': 791, 'MIN': 40, 'AVG': 418.04412},\n",
       "  'transactionEpoch': {'MAX': 1562976000,\n",
       "   'MIN': 952646400,\n",
       "   'AVG': 1273106541.1617646},\n",
       "  'trust_score': {'MAX': 0.5, 'MIN': 0, 'AVG': 0.49632}},\n",
       " 'phone_number': {},\n",
       " 'merchant_account': {'createEpoch': {'MAX': 1562976000,\n",
       "   'MIN': 0,\n",
       "   'AVG': 1062250740}},\n",
       " 'user_account': {'createEpoch': {'MAX': 1562976000,\n",
       "   'MIN': 0,\n",
       "   'AVG': 1079826700.5780346},\n",
       "  'trust_score': {'MAX': 0.5, 'MIN': 0, 'AVG': 0.49422}},\n",
       " 'user': {'trust_score': {'MAX': 0.5, 'MIN': 0, 'AVG': 0.49333},\n",
       "  'createEpoch': {'MAX': 1562976000, 'MIN': 0, 'AVG': 1254104064}}}"
      ]
     },
     "metadata": {},
     "execution_count": 4
    }
   ],
   "metadata": {}
  },
  {
   "cell_type": "markdown",
   "source": [
    "## Time vs. Trust Score"
   ],
   "metadata": {}
  },
  {
   "cell_type": "code",
   "execution_count": 5,
   "source": [
    "user_account_df = pd.DataFrame(conn.getVertices(\"user_account\"))"
   ],
   "outputs": [],
   "metadata": {}
  },
  {
   "cell_type": "code",
   "execution_count": 6,
   "source": [
    "user_account_df.head()"
   ],
   "outputs": [
    {
     "output_type": "execute_result",
     "data": {
      "text/html": [
       "<div>\n",
       "<style scoped>\n",
       "    .dataframe tbody tr th:only-of-type {\n",
       "        vertical-align: middle;\n",
       "    }\n",
       "\n",
       "    .dataframe tbody tr th {\n",
       "        vertical-align: top;\n",
       "    }\n",
       "\n",
       "    .dataframe thead th {\n",
       "        text-align: right;\n",
       "    }\n",
       "</style>\n",
       "<table border=\"1\" class=\"dataframe\">\n",
       "  <thead>\n",
       "    <tr style=\"text-align: right;\">\n",
       "      <th></th>\n",
       "      <th>v_id</th>\n",
       "      <th>v_type</th>\n",
       "      <th>attributes</th>\n",
       "    </tr>\n",
       "  </thead>\n",
       "  <tbody>\n",
       "    <tr>\n",
       "      <th>0</th>\n",
       "      <td>user_account43</td>\n",
       "      <td>user_account</td>\n",
       "      <td>{'created_date': '11/9/04', 'createEpoch': 109...</td>\n",
       "    </tr>\n",
       "    <tr>\n",
       "      <th>1</th>\n",
       "      <td>user_account134</td>\n",
       "      <td>user_account</td>\n",
       "      <td>{'created_date': '9/13/01', 'createEpoch': 100...</td>\n",
       "    </tr>\n",
       "    <tr>\n",
       "      <th>2</th>\n",
       "      <td>user_account5</td>\n",
       "      <td>user_account</td>\n",
       "      <td>{'created_date': '1/6/11', 'createEpoch': 1294...</td>\n",
       "    </tr>\n",
       "    <tr>\n",
       "      <th>3</th>\n",
       "      <td>user_account116</td>\n",
       "      <td>user_account</td>\n",
       "      <td>{'created_date': '2/27/14', 'createEpoch': 139...</td>\n",
       "    </tr>\n",
       "    <tr>\n",
       "      <th>4</th>\n",
       "      <td>user_account155</td>\n",
       "      <td>user_account</td>\n",
       "      <td>{'created_date': '3/13/06', 'createEpoch': 114...</td>\n",
       "    </tr>\n",
       "  </tbody>\n",
       "</table>\n",
       "</div>"
      ],
      "text/plain": [
       "              v_id        v_type  \\\n",
       "0   user_account43  user_account   \n",
       "1  user_account134  user_account   \n",
       "2    user_account5  user_account   \n",
       "3  user_account116  user_account   \n",
       "4  user_account155  user_account   \n",
       "\n",
       "                                          attributes  \n",
       "0  {'created_date': '11/9/04', 'createEpoch': 109...  \n",
       "1  {'created_date': '9/13/01', 'createEpoch': 100...  \n",
       "2  {'created_date': '1/6/11', 'createEpoch': 1294...  \n",
       "3  {'created_date': '2/27/14', 'createEpoch': 139...  \n",
       "4  {'created_date': '3/13/06', 'createEpoch': 114...  "
      ]
     },
     "metadata": {},
     "execution_count": 6
    }
   ],
   "metadata": {}
  },
  {
   "cell_type": "code",
   "execution_count": 7,
   "source": [
    "user_account_df = pd.concat([user_account_df.drop(['attributes'], axis=1), user_account_df['attributes'].apply(pd.Series)], axis=1)"
   ],
   "outputs": [],
   "metadata": {}
  },
  {
   "cell_type": "code",
   "execution_count": 8,
   "source": [
    "user_account_df.head()"
   ],
   "outputs": [
    {
     "output_type": "execute_result",
     "data": {
      "text/html": [
       "<div>\n",
       "<style scoped>\n",
       "    .dataframe tbody tr th:only-of-type {\n",
       "        vertical-align: middle;\n",
       "    }\n",
       "\n",
       "    .dataframe tbody tr th {\n",
       "        vertical-align: top;\n",
       "    }\n",
       "\n",
       "    .dataframe thead th {\n",
       "        text-align: right;\n",
       "    }\n",
       "</style>\n",
       "<table border=\"1\" class=\"dataframe\">\n",
       "  <thead>\n",
       "    <tr style=\"text-align: right;\">\n",
       "      <th></th>\n",
       "      <th>v_id</th>\n",
       "      <th>v_type</th>\n",
       "      <th>created_date</th>\n",
       "      <th>createEpoch</th>\n",
       "      <th>trust_score</th>\n",
       "    </tr>\n",
       "  </thead>\n",
       "  <tbody>\n",
       "    <tr>\n",
       "      <th>0</th>\n",
       "      <td>user_account43</td>\n",
       "      <td>user_account</td>\n",
       "      <td>11/9/04</td>\n",
       "      <td>1099958400</td>\n",
       "      <td>0.5</td>\n",
       "    </tr>\n",
       "    <tr>\n",
       "      <th>1</th>\n",
       "      <td>user_account134</td>\n",
       "      <td>user_account</td>\n",
       "      <td>9/13/01</td>\n",
       "      <td>1000339200</td>\n",
       "      <td>0.5</td>\n",
       "    </tr>\n",
       "    <tr>\n",
       "      <th>2</th>\n",
       "      <td>user_account5</td>\n",
       "      <td>user_account</td>\n",
       "      <td>1/6/11</td>\n",
       "      <td>1294272000</td>\n",
       "      <td>0.5</td>\n",
       "    </tr>\n",
       "    <tr>\n",
       "      <th>3</th>\n",
       "      <td>user_account116</td>\n",
       "      <td>user_account</td>\n",
       "      <td>2/27/14</td>\n",
       "      <td>1393459200</td>\n",
       "      <td>0.5</td>\n",
       "    </tr>\n",
       "    <tr>\n",
       "      <th>4</th>\n",
       "      <td>user_account155</td>\n",
       "      <td>user_account</td>\n",
       "      <td>3/13/06</td>\n",
       "      <td>1142208000</td>\n",
       "      <td>0.5</td>\n",
       "    </tr>\n",
       "  </tbody>\n",
       "</table>\n",
       "</div>"
      ],
      "text/plain": [
       "              v_id        v_type created_date  createEpoch  trust_score\n",
       "0   user_account43  user_account      11/9/04   1099958400          0.5\n",
       "1  user_account134  user_account      9/13/01   1000339200          0.5\n",
       "2    user_account5  user_account       1/6/11   1294272000          0.5\n",
       "3  user_account116  user_account      2/27/14   1393459200          0.5\n",
       "4  user_account155  user_account      3/13/06   1142208000          0.5"
      ]
     },
     "metadata": {},
     "execution_count": 8
    }
   ],
   "metadata": {}
  },
  {
   "cell_type": "code",
   "execution_count": 9,
   "source": [
    "user_account_df.shape"
   ],
   "outputs": [
    {
     "output_type": "execute_result",
     "data": {
      "text/plain": [
       "(173, 5)"
      ]
     },
     "metadata": {},
     "execution_count": 9
    }
   ],
   "metadata": {}
  },
  {
   "cell_type": "code",
   "execution_count": 10,
   "source": [
    "user_account_df[[\"trust_score\", \"createEpoch\"]].plot(x=\"createEpoch\", y=\"trust_score\", kind=\"scatter\")"
   ],
   "outputs": [
    {
     "output_type": "execute_result",
     "data": {
      "text/plain": [
       "<AxesSubplot:xlabel='createEpoch', ylabel='trust_score'>"
      ]
     },
     "metadata": {},
     "execution_count": 10
    },
    {
     "output_type": "display_data",
     "data": {
      "image/png": "[encoded data removed]",
      "text/plain": [
       "<Figure size 432x288 with 1 Axes>"
      ]
     },
     "metadata": {
      "needs_background": "light"
     }
    }
   ],
   "metadata": {}
  },
  {
   "cell_type": "code",
   "execution_count": 11,
   "source": [
    "payment_df = pd.DataFrame(conn.getVertices(\"payment\"))"
   ],
   "outputs": [],
   "metadata": {}
  },
  {
   "cell_type": "code",
   "execution_count": 13,
   "source": [
    "payment_df = pd.concat([payment_df.drop(['attributes'], axis=1), payment_df['attributes'].apply(pd.Series)], axis=1)"
   ],
   "outputs": [],
   "metadata": {}
  },
  {
   "cell_type": "code",
   "execution_count": 14,
   "source": [
    "payment_df.head()"
   ],
   "outputs": [
    {
     "output_type": "execute_result",
     "data": {
      "text/html": [
       "<div>\n",
       "<style scoped>\n",
       "    .dataframe tbody tr th:only-of-type {\n",
       "        vertical-align: middle;\n",
       "    }\n",
       "\n",
       "    .dataframe tbody tr th {\n",
       "        vertical-align: top;\n",
       "    }\n",
       "\n",
       "    .dataframe thead th {\n",
       "        text-align: right;\n",
       "    }\n",
       "</style>\n",
       "<table border=\"1\" class=\"dataframe\">\n",
       "  <thead>\n",
       "    <tr style=\"text-align: right;\">\n",
       "      <th></th>\n",
       "      <th>v_id</th>\n",
       "      <th>v_type</th>\n",
       "      <th>amount</th>\n",
       "      <th>transaction_date</th>\n",
       "      <th>transactionEpoch</th>\n",
       "      <th>trust_score</th>\n",
       "    </tr>\n",
       "  </thead>\n",
       "  <tbody>\n",
       "    <tr>\n",
       "      <th>0</th>\n",
       "      <td>payment152</td>\n",
       "      <td>payment</td>\n",
       "      <td>308</td>\n",
       "      <td>4/13/13</td>\n",
       "      <td>1365811200</td>\n",
       "      <td>0.5</td>\n",
       "    </tr>\n",
       "    <tr>\n",
       "      <th>1</th>\n",
       "      <td>payment65</td>\n",
       "      <td>payment</td>\n",
       "      <td>701</td>\n",
       "      <td>3/22/15</td>\n",
       "      <td>1426982400</td>\n",
       "      <td>0.5</td>\n",
       "    </tr>\n",
       "    <tr>\n",
       "      <th>2</th>\n",
       "      <td>payment113</td>\n",
       "      <td>payment</td>\n",
       "      <td>49</td>\n",
       "      <td>2/12/14</td>\n",
       "      <td>1392163200</td>\n",
       "      <td>0.5</td>\n",
       "    </tr>\n",
       "    <tr>\n",
       "      <th>3</th>\n",
       "      <td>payment79</td>\n",
       "      <td>payment</td>\n",
       "      <td>419</td>\n",
       "      <td>2/9/10</td>\n",
       "      <td>1265673600</td>\n",
       "      <td>0.5</td>\n",
       "    </tr>\n",
       "    <tr>\n",
       "      <th>4</th>\n",
       "      <td>payment89</td>\n",
       "      <td>payment</td>\n",
       "      <td>487</td>\n",
       "      <td>5/8/00</td>\n",
       "      <td>957744000</td>\n",
       "      <td>0.5</td>\n",
       "    </tr>\n",
       "  </tbody>\n",
       "</table>\n",
       "</div>"
      ],
      "text/plain": [
       "         v_id   v_type  amount transaction_date  transactionEpoch  trust_score\n",
       "0  payment152  payment     308          4/13/13        1365811200          0.5\n",
       "1   payment65  payment     701          3/22/15        1426982400          0.5\n",
       "2  payment113  payment      49          2/12/14        1392163200          0.5\n",
       "3   payment79  payment     419           2/9/10        1265673600          0.5\n",
       "4   payment89  payment     487           5/8/00         957744000          0.5"
      ]
     },
     "metadata": {},
     "execution_count": 14
    }
   ],
   "metadata": {}
  },
  {
   "cell_type": "code",
   "execution_count": 16,
   "source": [
    "payment_df[[\"trust_score\", \"transactionEpoch\"]].plot(x=\"transactionEpoch\", y=\"trust_score\", kind=\"scatter\")"
   ],
   "outputs": [
    {
     "output_type": "execute_result",
     "data": {
      "text/plain": [
       "<AxesSubplot:xlabel='transactionEpoch', ylabel='trust_score'>"
      ]
     },
     "metadata": {},
     "execution_count": 16
    },
    {
     "output_type": "display_data",
     "data": {
      "image/png": "[encoded data removed]",
      "text/plain": [
       "<Figure size 432x288 with 1 Axes>"
      ]
     },
     "metadata": {
      "needs_background": "light"
     }
    }
   ],
   "metadata": {}
  },
  {
   "cell_type": "markdown",
   "source": [
    "## Transaction Amount vs. Trust Score"
   ],
   "metadata": {}
  },
  {
   "cell_type": "code",
   "execution_count": 17,
   "source": [
    "payment_df[[\"trust_score\", \"amount\"]].plot(x=\"amount\", y=\"trust_score\", kind=\"scatter\")"
   ],
   "outputs": [
    {
     "output_type": "execute_result",
     "data": {
      "text/plain": [
       "<AxesSubplot:xlabel='amount', ylabel='trust_score'>"
      ]
     },
     "metadata": {},
     "execution_count": 17
    },
    {
     "output_type": "display_data",
     "data": {
      "image/png": "[encoded data removed]",
      "text/plain": [
       "<Figure size 432x288 with 1 Axes>"
      ]
     },
     "metadata": {
      "needs_background": "light"
     }
    }
   ],
   "metadata": {}
  },
  {
   "cell_type": "markdown",
   "source": [
    "## PageRank"
   ],
   "metadata": {}
  },
  {
   "cell_type": "code",
   "execution_count": 47,
   "source": [
    "pr = '''\n",
    "DROP QUERY tg_pagerank\n",
    "CREATE QUERY tg_pagerank (SET<STRING> v_type, SET<STRING> e_type,\n",
    " FLOAT max_change=0.001, INT max_iter=25, FLOAT damping=0.85, INT top_k = 100,\n",
    " BOOL print_accum = TRUE, STRING result_attr =  \"\", STRING file_path = \"\",\n",
    " BOOL display_edges = FALSE) {\n",
    "/*\n",
    " Compute the pageRank score for each vertex in the GRAPH\n",
    " In each iteration, compute a score for each vertex:\n",
    "     score = (1-damping) + damping*sum(received scores FROM its neighbors).\n",
    " The pageRank algorithm stops when either of the following is true:\n",
    " a) it reaches max_iter iterations;\n",
    " b) the max score change for any vertex compared to the last iteration <= max_change.\n",
    " v_type: vertex types to traverse          print_accum: print JSON output\n",
    " e_type: edge types to traverse            result_attr: INT attr to store results to\n",
    " max_iter; max #iterations                 file_path: file to write CSV output to\n",
    " top_k: #top scores to output              display_edges: output edges for visualization\n",
    " max_change: max allowed change between iterations to achieve convergence\n",
    " damping: importance of traversal vs. random teleport\n",
    "\n",
    " This query supports only taking in a single edge for the time being (8/13/2020).\n",
    "*/\n",
    "TYPEDEF TUPLE<VERTEX Vertex_ID, FLOAT score, FLOAT trust_score> Vertex_Score;\n",
    "HeapAccum<Vertex_Score>(top_k, score DESC) @@top_scores_heap;\n",
    "MaxAccum<FLOAT> @@max_diff = 9999;    # max score change in an iteration\n",
    "SumAccum<FLOAT> @sum_recvd_score = 0; # sum of scores each vertex receives FROM neighbors\n",
    "SumAccum<FLOAT> @sum_score = 1;           # initial score for every vertex is 1.\n",
    "SetAccum<EDGE> @@edge_set;             # list of all edges, if display is needed\n",
    "FILE f (file_path);\n",
    "\n",
    "# PageRank iterations\t\n",
    "Start = {v_type};                     # Start with all vertices of specified type(s)\n",
    "WHILE @@max_diff > max_change \n",
    "    LIMIT max_iter DO\n",
    "        @@max_diff = 0;\n",
    "    V = SELECT s\n",
    "\tFROM Start:s -(e_type:e)-> v_type:t\n",
    "\tACCUM \n",
    "            t.@sum_recvd_score += s.@sum_score/(s.outdegree(e_type)) \n",
    "\tPOST-ACCUM \n",
    "            s.@sum_score = (1.0-damping) + damping * s.@sum_recvd_score,\n",
    "\t    s.@sum_recvd_score = 0,\n",
    "\t    @@max_diff += abs(s.@sum_score - s.@sum_score');\n",
    "END; # END WHILE loop\n",
    "\n",
    "# Output\n",
    "IF file_path != \"\" THEN\n",
    "    f.println(\"Vertex_ID\", \"PageRank\");\n",
    "END;\n",
    "V = SELECT s \n",
    "    FROM Start:s\n",
    "    POST-ACCUM \n",
    "        IF result_attr != \"\" THEN \n",
    "            s.setAttr(result_attr, s.@sum_score) \n",
    "        END,\n",
    "   \n",
    "\tIF file_path != \"\" THEN \n",
    "            f.println(s, s.@sum_score) \n",
    "        END,\n",
    "   \n",
    "\tIF print_accum THEN \n",
    "            @@top_scores_heap += Vertex_Score(s, s.@sum_score, s.trust_score) \n",
    "        END;\n",
    "\n",
    "IF print_accum THEN\n",
    "    PRINT @@top_scores_heap;\n",
    "    IF display_edges THEN\n",
    "        PRINT Start[Start.@sum_score];\n",
    "\tStart = SELECT s\n",
    "\t        FROM Start:s -(e_type:e)-> v_type:t\n",
    "\t        ACCUM @@edge_set += e;\n",
    "        PRINT @@edge_set;\n",
    "    END;\n",
    "END;\n",
    "}\n",
    "\n",
    "INSTALL QUERY tg_pagerank\n",
    "'''"
   ],
   "outputs": [],
   "metadata": {}
  },
  {
   "cell_type": "code",
   "execution_count": 48,
   "source": [
    "print(conn.gsql(pr))"
   ],
   "outputs": [
    {
     "output_type": "stream",
     "name": "stdout",
     "text": [
      "Successfully dropped queries on the graph 'MyGraph': [tg_pagerank].\n",
      "Successfully created queries: [tg_pagerank].\n",
      "Start installing queries, about 1 minute ...\n",
      "tg_pagerank query: curl -X GET 'https://127.0.0.1:9000/query/MyGraph/tg_pagerank?v_type=VALUE&e_type=VALUE&[max_change=VALUE]&[max_iter=VALUE]&[damping=VALUE]&[top_k=VALUE]&[print_accum=VALUE]&[result_attr=VALUE]&[file_path=VALUE]&[display_edges=VALUE]'. Add -H \"Authorization: Bearer TOKEN\" if authentication is enabled.\n",
      "Select 'm1' as compile server, now connecting ...\n",
      "Node 'm1' is prepared as compile server.\n",
      "\n",
      "Query installation finished.\n"
     ]
    }
   ],
   "metadata": {}
  },
  {
   "cell_type": "code",
   "execution_count": 24,
   "source": [
    "def createParamString(vertexTypes, edgeTypes, params):\n",
    "    paramUrl = \"\"\n",
    "    for vType in vertexTypes:\n",
    "        paramUrl += (\"v_type=\"+vType+\"&\")\n",
    "    for eType in edgeTypes:\n",
    "        paramUrl += (\"e_type=\"+eType+\"&\")\n",
    "    for p in params.keys():\n",
    "        paramUrl += (p+\"=\"+str(params[p])+\"&\")\n",
    "    paramUrl = paramUrl[:-1]\n",
    "    return paramUrl"
   ],
   "outputs": [],
   "metadata": {}
  },
  {
   "cell_type": "code",
   "execution_count": 51,
   "source": [
    "params = {\n",
    "    \"top_k\":1500,\n",
    "}\n",
    "\n",
    "res = conn.runInstalledQuery(\"tg_pagerank\", params=createParamString(conn.getVertexTypes(), conn.getEdgeTypes(), params))[0][\"@@top_scores_heap\"]"
   ],
   "outputs": [],
   "metadata": {}
  },
  {
   "cell_type": "code",
   "execution_count": 52,
   "source": [
    "df = pd.DataFrame(res)"
   ],
   "outputs": [],
   "metadata": {}
  },
  {
   "cell_type": "code",
   "execution_count": 53,
   "source": [
    "df.head()"
   ],
   "outputs": [
    {
     "output_type": "execute_result",
     "data": {
      "text/html": [
       "<div>\n",
       "<style scoped>\n",
       "    .dataframe tbody tr th:only-of-type {\n",
       "        vertical-align: middle;\n",
       "    }\n",
       "\n",
       "    .dataframe tbody tr th {\n",
       "        vertical-align: top;\n",
       "    }\n",
       "\n",
       "    .dataframe thead th {\n",
       "        text-align: right;\n",
       "    }\n",
       "</style>\n",
       "<table border=\"1\" class=\"dataframe\">\n",
       "  <thead>\n",
       "    <tr style=\"text-align: right;\">\n",
       "      <th></th>\n",
       "      <th>Vertex_ID</th>\n",
       "      <th>score</th>\n",
       "      <th>trust_score</th>\n",
       "    </tr>\n",
       "  </thead>\n",
       "  <tbody>\n",
       "    <tr>\n",
       "      <th>0</th>\n",
       "      <td>user_account40</td>\n",
       "      <td>3.89393</td>\n",
       "      <td>0.5</td>\n",
       "    </tr>\n",
       "    <tr>\n",
       "      <th>1</th>\n",
       "      <td>user_account76</td>\n",
       "      <td>1.54076</td>\n",
       "      <td>0.5</td>\n",
       "    </tr>\n",
       "    <tr>\n",
       "      <th>2</th>\n",
       "      <td>user_account74</td>\n",
       "      <td>1.54076</td>\n",
       "      <td>0.5</td>\n",
       "    </tr>\n",
       "    <tr>\n",
       "      <th>3</th>\n",
       "      <td>user_account54</td>\n",
       "      <td>1.49470</td>\n",
       "      <td>0.5</td>\n",
       "    </tr>\n",
       "    <tr>\n",
       "      <th>4</th>\n",
       "      <td>user_account72</td>\n",
       "      <td>1.49470</td>\n",
       "      <td>0.5</td>\n",
       "    </tr>\n",
       "  </tbody>\n",
       "</table>\n",
       "</div>"
      ],
      "text/plain": [
       "        Vertex_ID    score  trust_score\n",
       "0  user_account40  3.89393          0.5\n",
       "1  user_account76  1.54076          0.5\n",
       "2  user_account74  1.54076          0.5\n",
       "3  user_account54  1.49470          0.5\n",
       "4  user_account72  1.49470          0.5"
      ]
     },
     "metadata": {},
     "execution_count": 53
    }
   ],
   "metadata": {}
  },
  {
   "cell_type": "code",
   "execution_count": 54,
   "source": [
    "df[[\"trust_score\", \"score\"]].plot(x=\"score\", y=\"trust_score\", kind=\"scatter\")"
   ],
   "outputs": [
    {
     "output_type": "execute_result",
     "data": {
      "text/plain": [
       "<AxesSubplot:xlabel='score', ylabel='trust_score'>"
      ]
     },
     "metadata": {},
     "execution_count": 54
    },
    {
     "output_type": "display_data",
     "data": {
      "image/png": "[encoded data removed]",
      "text/plain": [
       "<Figure size 432x288 with 1 Axes>"
      ]
     },
     "metadata": {
      "needs_background": "light"
     }
    }
   ],
   "metadata": {}
  },
  {
   "cell_type": "code",
   "execution_count": 55,
   "source": [
    "df[df[\"trust_score\"] < 0.1].describe()"
   ],
   "outputs": [
    {
     "output_type": "execute_result",
     "data": {
      "text/html": [
       "<div>\n",
       "<style scoped>\n",
       "    .dataframe tbody tr th:only-of-type {\n",
       "        vertical-align: middle;\n",
       "    }\n",
       "\n",
       "    .dataframe tbody tr th {\n",
       "        vertical-align: top;\n",
       "    }\n",
       "\n",
       "    .dataframe thead th {\n",
       "        text-align: right;\n",
       "    }\n",
       "</style>\n",
       "<table border=\"1\" class=\"dataframe\">\n",
       "  <thead>\n",
       "    <tr style=\"text-align: right;\">\n",
       "      <th></th>\n",
       "      <th>score</th>\n",
       "      <th>trust_score</th>\n",
       "    </tr>\n",
       "  </thead>\n",
       "  <tbody>\n",
       "    <tr>\n",
       "      <th>count</th>\n",
       "      <td>8.000000</td>\n",
       "      <td>8.0</td>\n",
       "    </tr>\n",
       "    <tr>\n",
       "      <th>mean</th>\n",
       "      <td>0.194758</td>\n",
       "      <td>0.0</td>\n",
       "    </tr>\n",
       "    <tr>\n",
       "      <th>std</th>\n",
       "      <td>0.059798</td>\n",
       "      <td>0.0</td>\n",
       "    </tr>\n",
       "    <tr>\n",
       "      <th>min</th>\n",
       "      <td>0.150000</td>\n",
       "      <td>0.0</td>\n",
       "    </tr>\n",
       "    <tr>\n",
       "      <th>25%</th>\n",
       "      <td>0.150000</td>\n",
       "      <td>0.0</td>\n",
       "    </tr>\n",
       "    <tr>\n",
       "      <th>50%</th>\n",
       "      <td>0.171250</td>\n",
       "      <td>0.0</td>\n",
       "    </tr>\n",
       "    <tr>\n",
       "      <th>75%</th>\n",
       "      <td>0.213750</td>\n",
       "      <td>0.0</td>\n",
       "    </tr>\n",
       "    <tr>\n",
       "      <th>max</th>\n",
       "      <td>0.295560</td>\n",
       "      <td>0.0</td>\n",
       "    </tr>\n",
       "  </tbody>\n",
       "</table>\n",
       "</div>"
      ],
      "text/plain": [
       "          score  trust_score\n",
       "count  8.000000          8.0\n",
       "mean   0.194758          0.0\n",
       "std    0.059798          0.0\n",
       "min    0.150000          0.0\n",
       "25%    0.150000          0.0\n",
       "50%    0.171250          0.0\n",
       "75%    0.213750          0.0\n",
       "max    0.295560          0.0"
      ]
     },
     "metadata": {},
     "execution_count": 55
    }
   ],
   "metadata": {}
  },
  {
   "cell_type": "code",
   "execution_count": 57,
   "source": [
    "df[df[\"trust_score\"] > 0.1].describe()"
   ],
   "outputs": [
    {
     "output_type": "execute_result",
     "data": {
      "text/html": [
       "<div>\n",
       "<style scoped>\n",
       "    .dataframe tbody tr th:only-of-type {\n",
       "        vertical-align: middle;\n",
       "    }\n",
       "\n",
       "    .dataframe tbody tr th {\n",
       "        vertical-align: top;\n",
       "    }\n",
       "\n",
       "    .dataframe thead th {\n",
       "        text-align: right;\n",
       "    }\n",
       "</style>\n",
       "<table border=\"1\" class=\"dataframe\">\n",
       "  <thead>\n",
       "    <tr style=\"text-align: right;\">\n",
       "      <th></th>\n",
       "      <th>score</th>\n",
       "      <th>trust_score</th>\n",
       "    </tr>\n",
       "  </thead>\n",
       "  <tbody>\n",
       "    <tr>\n",
       "      <th>count</th>\n",
       "      <td>600.000000</td>\n",
       "      <td>600.0</td>\n",
       "    </tr>\n",
       "    <tr>\n",
       "      <th>mean</th>\n",
       "      <td>0.251737</td>\n",
       "      <td>0.5</td>\n",
       "    </tr>\n",
       "    <tr>\n",
       "      <th>std</th>\n",
       "      <td>0.256551</td>\n",
       "      <td>0.0</td>\n",
       "    </tr>\n",
       "    <tr>\n",
       "      <th>min</th>\n",
       "      <td>0.150000</td>\n",
       "      <td>0.5</td>\n",
       "    </tr>\n",
       "    <tr>\n",
       "      <th>25%</th>\n",
       "      <td>0.150000</td>\n",
       "      <td>0.5</td>\n",
       "    </tr>\n",
       "    <tr>\n",
       "      <th>50%</th>\n",
       "      <td>0.192500</td>\n",
       "      <td>0.5</td>\n",
       "    </tr>\n",
       "    <tr>\n",
       "      <th>75%</th>\n",
       "      <td>0.295560</td>\n",
       "      <td>0.5</td>\n",
       "    </tr>\n",
       "    <tr>\n",
       "      <th>max</th>\n",
       "      <td>3.893930</td>\n",
       "      <td>0.5</td>\n",
       "    </tr>\n",
       "  </tbody>\n",
       "</table>\n",
       "</div>"
      ],
      "text/plain": [
       "            score  trust_score\n",
       "count  600.000000        600.0\n",
       "mean     0.251737          0.5\n",
       "std      0.256551          0.0\n",
       "min      0.150000          0.5\n",
       "25%      0.150000          0.5\n",
       "50%      0.192500          0.5\n",
       "75%      0.295560          0.5\n",
       "max      3.893930          0.5"
      ]
     },
     "metadata": {},
     "execution_count": 57
    }
   ],
   "metadata": {}
  },
  {
   "cell_type": "code",
   "execution_count": null,
   "source": [],
   "outputs": [],
   "metadata": {}
  }
 ],
 "metadata": {
  "interpreter": {
   "hash": "f69e50b4bdd2a2c0c364fc25ee1f0420b5e32e39a361edb46ae18373d1d4c338"
  },
  "kernelspec": {
   "display_name": "Python 3 (TG+PyG)",
   "language": "python",
   "name": "python3"
  },
  "language_info": {
   "codemirror_mode": {
    "name": "ipython",
    "version": 3
   },
   "file_extension": ".py",
   "mimetype": "text/x-python",
   "name": "python",
   "nbconvert_exporter": "python",
   "pygments_lexer": "ipython3",
   "version": "3.8.12"
  }
 },
 "nbformat": 4,
 "nbformat_minor": 4
}